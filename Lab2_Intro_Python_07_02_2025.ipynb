{
  "nbformat": 4,
  "nbformat_minor": 0,
  "metadata": {
    "colab": {
      "provenance": []
    },
    "kernelspec": {
      "name": "python3",
      "display_name": "Python 3"
    },
    "language_info": {
      "name": "python"
    }
  },
  "cells": [
    {
      "cell_type": "markdown",
      "source": [
        "##Lab 2: Introduction to Python\n",
        "In this lab, we will introduce basic Python concepts that are essential for students to understand and successfully follow the upcoming Introduction to AI lab sheets."
      ],
      "metadata": {
        "id": "aU7VVeTy3fJ_"
      }
    },
    {
      "cell_type": "markdown",
      "source": [
        "## Exercise 1: Control Flow and Loops\n",
        "\n",
        "1. Write a `for` loop to print numbers from 1 to 10 using `range()`.\n",
        "2. Write a `while` loop to print numbers from 1 to 10.\n",
        "3. Use an `if-else` statement to print only the even numbers between 1 and 10.\n",
        "4. Given a list `L` containing numbers from 1 to 10, use a `for` loop with `enumerate()` to print both the index and value of each element in the list.\n",
        "5. Use a list comprehension to create a new list `L2` containing the squares of the numbers in list `L1`.\n",
        "6. Use a `for` loop with `zip()` to iterate over lists `L1` and `L2` simultaneously, and print each number along with its square.\n",
        "7. Use a nested loop to print a multiplication table for numbers 1 through 5.\n",
        "\n",
        "\n"
      ],
      "metadata": {
        "id": "5YsEAIR215TE"
      }
    },
    {
      "cell_type": "code",
      "source": [],
      "metadata": {
        "id": "zc8b8gNL5J-B"
      },
      "execution_count": null,
      "outputs": []
    },
    {
      "cell_type": "markdown",
      "source": [
        "## Exercise 2 (Lists)\n",
        "\n",
        "### Part 1: Basic List Operations\n",
        "\n",
        "1. Create a list L1 containing the values `[1, 2, 3, 4, 5]`.\n",
        "\n",
        "2. Append `11` to the end, insert `0` at the beginning, and remove the number `3` from L1.\n",
        "\n",
        "3. Create another list `L2` containing integers from 1 to 10 using `range`.\n",
        "\n",
        "4. Create a list L3 containing the concatenation of the two lists L1 and L2.\n",
        "\n",
        "5. Reverse the order of L3 using list functions.\n",
        "\n",
        "6. Create another list `even` containing only even numbers from L3 using `list comprehension`.\n",
        "\n",
        "7. Create another list `odd` containing only odd numbers from L3 that are  between 2 and 8 (inclusive) using `list comprehension`.\n",
        "\n",
        "###  Part 2: Basic Slicing Operations\n",
        "\n",
        "1. Use slicing to extract the first three elements from L3.\n",
        "\n",
        "2. Use slicing to extract the last two elements from L3.\n",
        "\n",
        "3. Use slicing to create a list L4 that contains every other element from L3 starting with the first one, using slicing. For example, given the list s = [10, 20, 30, 40, 50, 60, 70, 80]. The result should be: [10, 30, 50, 70].\n",
        "\n",
        "4. Use slicing to create a list L5 that contains every other element from L3 starting from the end, using slicing. For example, given the list s = [10, 20, 30, 40, 50, 60, 70, 80]. The result should be: [80, 60, 40, 20].\n",
        "\n",
        "5. Use slicing to reverse the list."
      ],
      "metadata": {
        "id": "tl5ZFm8-FIiw"
      }
    },
    {
      "cell_type": "code",
      "source": [],
      "metadata": {
        "id": "Umu606FT0piD"
      },
      "execution_count": null,
      "outputs": []
    },
    {
      "cell_type": "markdown",
      "source": [
        "## Exercise 3 (Matrices Manipulation)\n",
        "\n",
        "### Part 1: Understanding Matrices\n",
        "\n",
        "1. Create a 3×3 matrix with values from 1 to 9. Represent it as a list of lists:\n",
        "\n",
        "   ```python\n",
        "   matrix = [\n",
        "       [1, 2, 3],\n",
        "       [4, 5, 6],\n",
        "       [7, 8, 9]\n",
        "   ]\n",
        "   ```\n",
        "2. Transpose the matrix by swapping rows and columns.\n",
        "\n",
        "###  Part 2: Matrices Slicing Operations\n",
        "\n",
        "1. Use slicing to extract the first row of the matrix.\n",
        "\n",
        "2. Use a list comprehension to extract the first column of the matrix.\n",
        "\n",
        "3. Use slicing to create a new matrix that contains only the last two rows of the original matrix.\n",
        "\n",
        "4. Use slicing to reverse the order of rows in the matrix.\n",
        "\n",
        "5. Use a list comprehension to extract the middle column from the matrix.\n",
        "\n"
      ],
      "metadata": {
        "id": "pUV_8hj40q0s"
      }
    },
    {
      "cell_type": "code",
      "source": [],
      "metadata": {
        "id": "3vHTZEAL0rl8"
      },
      "execution_count": null,
      "outputs": []
    },
    {
      "cell_type": "markdown",
      "source": [
        "## Exercise 4: Sets and Dictionaries\n",
        "\n",
        "### Part 1: Sets\n",
        "- Given the list `L = [3, 5, 3, 8, 5, 3, 8, 8, 10]`, create a set from `L`.\n",
        "- Add the value `12` to the set.\n",
        "- Remove the value `3` from the set.\n",
        "- Check if the value `8` exists in the set.\n",
        "\n",
        "### Part 2: Dictionaries\n",
        "- Using the same list `L = [3, 5, 3, 8, 5, 3, 8, 8, 10]`, create a dictionary from `L` that maps each unique number to its frequency.\n",
        "- Print the dictionary to show the frequency of each number.\n",
        "- Find the most frequently occurring number.\n",
        "- Find the least frequently occurring number.\n",
        "- Check if the number `7` exists in the dictionary as a key.\n",
        "- Add a new value `12` to `L`, update the dictionary accordingly, and print the updated dictionary.\n",
        "\n",
        "\n"
      ],
      "metadata": {
        "id": "WmpsQQxD0Bkz"
      }
    },
    {
      "cell_type": "code",
      "source": [],
      "metadata": {
        "id": "qR0FlmYd14zA"
      },
      "execution_count": null,
      "outputs": []
    },
    {
      "cell_type": "markdown",
      "source": [
        "## Exercise 5: Strings Manipulation\n",
        "\n",
        "Given the sentence `\"Python programming is fun!\"`, perform the following:\n",
        "- Extract the substring \"programming\" from the string using slicing.\n",
        "- Convert the string to lowercase.\n",
        "- Replace the word \"programming\" with \"coding\" in the string.\n",
        "- Check if the string starts with \"Python\".\n",
        "- Split the string into a list of words using the `split()` method.\n",
        "- Join the list of words back into a single string with spaces in between.\n",
        "- Use slicing to reverse the string.\n",
        "- Check if the string contains the substring \"coding\"."
      ],
      "metadata": {
        "id": "PrNpm3-wqgH3"
      }
    },
    {
      "cell_type": "code",
      "source": [],
      "metadata": {
        "id": "bUB5hXOr0BFH"
      },
      "execution_count": null,
      "outputs": []
    },
    {
      "cell_type": "markdown",
      "source": [
        "## Exercise 6: Functions and Modules\n",
        "\n",
        "- Write a function that takes two numbers as arguments and returns their sum.\n",
        "- Write a function that takes a list of numbers and returns the maximum value.\n",
        "- Write a function that takes a string and returns the number of vowels in it.\n",
        "- Write a function that uses `sqrt()` from the `math` module to calculate the square root of any given number.\n",
        "- Write a function that accepts an arbitrary number of keyword arguments and prints them.\n",
        "- Create a custom module named `my_module.py` with a function `greet()` that prints `\"Hello, World!\"` and save it in the same directory as the notebook. After that import and use this function in a notebook.\n",
        "\n"
      ],
      "metadata": {
        "id": "pReljd7-3SiB"
      }
    },
    {
      "cell_type": "code",
      "source": [],
      "metadata": {
        "id": "j8zCtXOE3VnR"
      },
      "execution_count": null,
      "outputs": []
    },
    {
      "cell_type": "markdown",
      "source": [
        "## Exercise 7: Object-Oriented Programming\n",
        "\n",
        "- Create a class named `Person` with attributes `name` and `age`. Add a method `introduce()` that prints `\"Hello, my name is [name] and I am [age] years old.\"`\n",
        "- Add a `@property` decorator to the `Person` class to create a read-only attribute `birth_year` that calculates the birth year based on the current year.\n",
        "- Create a subclass `Student` that inherits from `Person` and adds an attribute `major`. Override the `introduce()` method to include the major.\n",
        "- Add a `@classmethod` to the `Person` class that creates a `Person` object from a birth year.\n",
        "- Add a `@staticmethod` to the `Person` class that checks if a given year is a leap year.\n",
        "- Create a class `Vector` with attributes `x` and `y`. Override the `__add__` method to add two `Vector` objects.\n",
        "- Override the `__str__` method in the `Vector` class to print the vector in the format `\"Vector(x, y)\"`.\n",
        "- Create a class `GameCharacter` with attributes `name`, `health`, and `strength`. Add methods `attack()` and `defend()`.\n",
        "- Create a subclass `Villain` that inherits from `GameCharacter` and adds an attribute `evilness`. Override the `attack()` method to include an evil laugh.\n",
        "\n"
      ],
      "metadata": {
        "id": "WvOAMSqF3ZB_"
      }
    },
    {
      "cell_type": "code",
      "source": [],
      "metadata": {
        "id": "_FIvP44u3bDw"
      },
      "execution_count": null,
      "outputs": []
    },
    {
      "cell_type": "markdown",
      "source": [
        "## Exercise 8: File Handling\n",
        "\n",
        "1. Write a program to read a text file (`example.txt`) and print its contents.\n",
        "2. Modify your program to include exception handling. Use a `try`/`except` block to handle cases where the file might not exist or cannot be opened.\n",
        "3. Write a program to write the string `\"Hello, File!\"` to a new file (`output.txt`).\n",
        "4. Write a program to append the string `\"This is a new line.\"` to an existing file (`output.txt`).\n",
        "5. Use the `json` module to write a dictionary `{ \"name\": \"Alice\", \"age\": 25 }` to a JSON file (`data.json`).\n",
        "6. Use the `json` module to read the JSON file (`data.json`) and print its contents.\n",
        "7. Use the `pickle` module to serialize a list `[1, 2, 3, 4, 5]` and save it to a file (`data.pkl`).\n",
        "8. Use the `pickle` module to deserialize the list from the file (`data.pkl`) and print it.\n",
        "9. Use the `csv` module to read a CSV file (`students.csv`) and print each row as a dictionary.\n",
        "10. Use the `csv` module to write a list of dictionaries `[ {\"name\": \"Alice\", \"age\": 25}, {\"name\": \"Bob\", \"age\": 30} ]` to a CSV file (`output.csv`).\n",
        "\n",
        "\n"
      ],
      "metadata": {
        "id": "7DbFVTRR3WCQ"
      }
    },
    {
      "cell_type": "code",
      "source": [],
      "metadata": {
        "id": "w1yDOd6R3Yr6"
      },
      "execution_count": null,
      "outputs": []
    },
    {
      "cell_type": "markdown",
      "source": [
        "## Exercise 9: Advanced Topics\n",
        "\n",
        "- Write a decorator `@timer` that measures the time taken to execute a function.\n",
        "- Use a generator to create a sequence of Fibonacci numbers up to `100`.\n",
        "- Write a lambda function that takes two numbers and returns their product.\n",
        "- Use the `map()` function to apply a lambda function that squares each element in a list `[1, 2, 3, 4, 5]`.\n",
        "- Use the `filter()` function to filter out even numbers from a list `[1, 2, 3, 4, 5, 6, 7, 8, 9]`.\n",
        "- Use the `reduce()` function from the `functools` module to calculate the product of all numbers in a list `[1, 2, 3, 4, 5]`.\n",
        "- Write a context manager using the `with` statement to handle file operations.\n",
        "- Use the `itertools` module to generate all permutations of the list `[1, 2, 3]`.\n",
        "- Write a recursive function to calculate the factorial of a number."
      ],
      "metadata": {
        "id": "TIJHpUO03bPh"
      }
    },
    {
      "cell_type": "code",
      "source": [],
      "metadata": {
        "id": "_YjY-3Qk3b2n"
      },
      "execution_count": null,
      "outputs": []
    }
  ]
}